{
 "cells": [
  {
   "cell_type": "markdown",
   "metadata": {},
   "source": [
    "### Import"
   ]
  },
  {
   "cell_type": "code",
   "execution_count": 1,
   "metadata": {},
   "outputs": [],
   "source": [
    "import random\n",
    "import os\n",
    "import pandas as pd\n",
    "import numpy as np"
   ]
  },
  {
   "cell_type": "markdown",
   "metadata": {},
   "source": [
    "### Data"
   ]
  },
  {
   "cell_type": "markdown",
   "metadata": {},
   "source": [
    "#### train.csv"
   ]
  },
  {
   "cell_type": "code",
   "execution_count": 2,
   "metadata": {},
   "outputs": [],
   "source": [
    "train_data = pd.read_csv('./train.csv')"
   ]
  },
  {
   "cell_type": "code",
   "execution_count": 3,
   "metadata": {},
   "outputs": [
    {
     "data": {
      "text/html": [
       "<div>\n",
       "<style scoped>\n",
       "    .dataframe tbody tr th:only-of-type {\n",
       "        vertical-align: middle;\n",
       "    }\n",
       "\n",
       "    .dataframe tbody tr th {\n",
       "        vertical-align: top;\n",
       "    }\n",
       "\n",
       "    .dataframe thead th {\n",
       "        text-align: right;\n",
       "    }\n",
       "</style>\n",
       "<table border=\"1\" class=\"dataframe\">\n",
       "  <thead>\n",
       "    <tr style=\"text-align: right;\">\n",
       "      <th></th>\n",
       "      <th>ID</th>\n",
       "      <th>제품</th>\n",
       "      <th>대분류</th>\n",
       "      <th>중분류</th>\n",
       "      <th>소분류</th>\n",
       "      <th>브랜드</th>\n",
       "    </tr>\n",
       "  </thead>\n",
       "  <tbody>\n",
       "    <tr>\n",
       "      <th>0</th>\n",
       "      <td>0</td>\n",
       "      <td>B002-00001-00001</td>\n",
       "      <td>B002-C001-0002</td>\n",
       "      <td>B002-C002-0007</td>\n",
       "      <td>B002-C003-0038</td>\n",
       "      <td>B002-00001</td>\n",
       "    </tr>\n",
       "    <tr>\n",
       "      <th>1</th>\n",
       "      <td>1</td>\n",
       "      <td>B002-00002-00001</td>\n",
       "      <td>B002-C001-0003</td>\n",
       "      <td>B002-C002-0008</td>\n",
       "      <td>B002-C003-0044</td>\n",
       "      <td>B002-00002</td>\n",
       "    </tr>\n",
       "    <tr>\n",
       "      <th>2</th>\n",
       "      <td>2</td>\n",
       "      <td>B002-00002-00002</td>\n",
       "      <td>B002-C001-0003</td>\n",
       "      <td>B002-C002-0008</td>\n",
       "      <td>B002-C003-0044</td>\n",
       "      <td>B002-00002</td>\n",
       "    </tr>\n",
       "    <tr>\n",
       "      <th>3</th>\n",
       "      <td>3</td>\n",
       "      <td>B002-00002-00003</td>\n",
       "      <td>B002-C001-0003</td>\n",
       "      <td>B002-C002-0008</td>\n",
       "      <td>B002-C003-0044</td>\n",
       "      <td>B002-00002</td>\n",
       "    </tr>\n",
       "    <tr>\n",
       "      <th>4</th>\n",
       "      <td>4</td>\n",
       "      <td>B002-00003-00001</td>\n",
       "      <td>B002-C001-0001</td>\n",
       "      <td>B002-C002-0001</td>\n",
       "      <td>B002-C003-0003</td>\n",
       "      <td>B002-00003</td>\n",
       "    </tr>\n",
       "    <tr>\n",
       "      <th>5</th>\n",
       "      <td>5</td>\n",
       "      <td>B002-00003-00002</td>\n",
       "      <td>B002-C001-0001</td>\n",
       "      <td>B002-C002-0001</td>\n",
       "      <td>B002-C003-0003</td>\n",
       "      <td>B002-00003</td>\n",
       "    </tr>\n",
       "    <tr>\n",
       "      <th>6</th>\n",
       "      <td>6</td>\n",
       "      <td>B002-00003-00003</td>\n",
       "      <td>B002-C001-0001</td>\n",
       "      <td>B002-C002-0001</td>\n",
       "      <td>B002-C003-0003</td>\n",
       "      <td>B002-00003</td>\n",
       "    </tr>\n",
       "    <tr>\n",
       "      <th>7</th>\n",
       "      <td>7</td>\n",
       "      <td>B002-00003-00004</td>\n",
       "      <td>B002-C001-0001</td>\n",
       "      <td>B002-C002-0001</td>\n",
       "      <td>B002-C003-0003</td>\n",
       "      <td>B002-00003</td>\n",
       "    </tr>\n",
       "    <tr>\n",
       "      <th>8</th>\n",
       "      <td>8</td>\n",
       "      <td>B002-00003-00005</td>\n",
       "      <td>B002-C001-0001</td>\n",
       "      <td>B002-C002-0001</td>\n",
       "      <td>B002-C003-0003</td>\n",
       "      <td>B002-00003</td>\n",
       "    </tr>\n",
       "    <tr>\n",
       "      <th>9</th>\n",
       "      <td>9</td>\n",
       "      <td>B002-00003-00006</td>\n",
       "      <td>B002-C001-0001</td>\n",
       "      <td>B002-C002-0001</td>\n",
       "      <td>B002-C003-0003</td>\n",
       "      <td>B002-00003</td>\n",
       "    </tr>\n",
       "  </tbody>\n",
       "</table>\n",
       "</div>"
      ],
      "text/plain": [
       "   ID                제품             대분류             중분류             소분류  \\\n",
       "0   0  B002-00001-00001  B002-C001-0002  B002-C002-0007  B002-C003-0038   \n",
       "1   1  B002-00002-00001  B002-C001-0003  B002-C002-0008  B002-C003-0044   \n",
       "2   2  B002-00002-00002  B002-C001-0003  B002-C002-0008  B002-C003-0044   \n",
       "3   3  B002-00002-00003  B002-C001-0003  B002-C002-0008  B002-C003-0044   \n",
       "4   4  B002-00003-00001  B002-C001-0001  B002-C002-0001  B002-C003-0003   \n",
       "5   5  B002-00003-00002  B002-C001-0001  B002-C002-0001  B002-C003-0003   \n",
       "6   6  B002-00003-00003  B002-C001-0001  B002-C002-0001  B002-C003-0003   \n",
       "7   7  B002-00003-00004  B002-C001-0001  B002-C002-0001  B002-C003-0003   \n",
       "8   8  B002-00003-00005  B002-C001-0001  B002-C002-0001  B002-C003-0003   \n",
       "9   9  B002-00003-00006  B002-C001-0001  B002-C002-0001  B002-C003-0003   \n",
       "\n",
       "          브랜드  \n",
       "0  B002-00001  \n",
       "1  B002-00002  \n",
       "2  B002-00002  \n",
       "3  B002-00002  \n",
       "4  B002-00003  \n",
       "5  B002-00003  \n",
       "6  B002-00003  \n",
       "7  B002-00003  \n",
       "8  B002-00003  \n",
       "9  B002-00003  "
      ]
     },
     "execution_count": 3,
     "metadata": {},
     "output_type": "execute_result"
    }
   ],
   "source": [
    "train_data.head(10).loc[:,:'브랜드']"
   ]
  },
  {
   "cell_type": "markdown",
   "metadata": {},
   "source": [
    "#### 개수 확인"
   ]
  },
  {
   "cell_type": "code",
   "execution_count": 4,
   "metadata": {},
   "outputs": [
    {
     "name": "stdout",
     "output_type": "stream",
     "text": [
      "ID: 15890\n",
      "제품: 15840\n",
      "대분류: 5\n",
      "중분류: 11\n",
      "소분류: 53\n",
      "브랜드: 3170\n"
     ]
    }
   ],
   "source": [
    "print('ID:',len(train_data['ID'].unique()))\n",
    "print('제품:',len(train_data['제품'].unique()))\n",
    "print('대분류:',len(train_data['대분류'].unique()))\n",
    "print('중분류:',len(train_data['중분류'].unique()))\n",
    "print('소분류:',len(train_data['소분류'].unique()))\n",
    "print('브랜드:',len(train_data['브랜드'].unique()))"
   ]
  },
  {
   "cell_type": "markdown",
   "metadata": {},
   "source": [
    "#### 분류 별 확인\n",
    "B002: 기본\n",
    "C001: 대분류\n",
    "C002: 중분류\n",
    "C003: 소분류"
   ]
  },
  {
   "cell_type": "code",
   "execution_count": 5,
   "metadata": {},
   "outputs": [],
   "source": [
    "train_category_1 = train_data[train_data['중분류']=='B002-C002-0009'].loc[:,:'브랜드']"
   ]
  },
  {
   "cell_type": "code",
   "execution_count": 6,
   "metadata": {},
   "outputs": [
    {
     "data": {
      "text/html": [
       "<div>\n",
       "<style scoped>\n",
       "    .dataframe tbody tr th:only-of-type {\n",
       "        vertical-align: middle;\n",
       "    }\n",
       "\n",
       "    .dataframe tbody tr th {\n",
       "        vertical-align: top;\n",
       "    }\n",
       "\n",
       "    .dataframe thead th {\n",
       "        text-align: right;\n",
       "    }\n",
       "</style>\n",
       "<table border=\"1\" class=\"dataframe\">\n",
       "  <thead>\n",
       "    <tr style=\"text-align: right;\">\n",
       "      <th></th>\n",
       "      <th>ID</th>\n",
       "      <th>제품</th>\n",
       "      <th>대분류</th>\n",
       "      <th>중분류</th>\n",
       "      <th>소분류</th>\n",
       "      <th>브랜드</th>\n",
       "    </tr>\n",
       "  </thead>\n",
       "  <tbody>\n",
       "    <tr>\n",
       "      <th>81</th>\n",
       "      <td>81</td>\n",
       "      <td>B002-00039-00001</td>\n",
       "      <td>B002-C001-0002</td>\n",
       "      <td>B002-C002-0009</td>\n",
       "      <td>B002-C003-0045</td>\n",
       "      <td>B002-00039</td>\n",
       "    </tr>\n",
       "    <tr>\n",
       "      <th>156</th>\n",
       "      <td>156</td>\n",
       "      <td>B002-00067-00014</td>\n",
       "      <td>B002-C001-0002</td>\n",
       "      <td>B002-C002-0009</td>\n",
       "      <td>B002-C003-0045</td>\n",
       "      <td>B002-00067</td>\n",
       "    </tr>\n",
       "    <tr>\n",
       "      <th>157</th>\n",
       "      <td>157</td>\n",
       "      <td>B002-00067-00015</td>\n",
       "      <td>B002-C001-0002</td>\n",
       "      <td>B002-C002-0009</td>\n",
       "      <td>B002-C003-0045</td>\n",
       "      <td>B002-00067</td>\n",
       "    </tr>\n",
       "    <tr>\n",
       "      <th>158</th>\n",
       "      <td>158</td>\n",
       "      <td>B002-00067-00016</td>\n",
       "      <td>B002-C001-0002</td>\n",
       "      <td>B002-C002-0009</td>\n",
       "      <td>B002-C003-0046</td>\n",
       "      <td>B002-00067</td>\n",
       "    </tr>\n",
       "    <tr>\n",
       "      <th>159</th>\n",
       "      <td>159</td>\n",
       "      <td>B002-00067-00017</td>\n",
       "      <td>B002-C001-0002</td>\n",
       "      <td>B002-C002-0009</td>\n",
       "      <td>B002-C003-0046</td>\n",
       "      <td>B002-00067</td>\n",
       "    </tr>\n",
       "    <tr>\n",
       "      <th>...</th>\n",
       "      <td>...</td>\n",
       "      <td>...</td>\n",
       "      <td>...</td>\n",
       "      <td>...</td>\n",
       "      <td>...</td>\n",
       "      <td>...</td>\n",
       "    </tr>\n",
       "    <tr>\n",
       "      <th>15634</th>\n",
       "      <td>15634</td>\n",
       "      <td>B002-03744-00002</td>\n",
       "      <td>B002-C001-0002</td>\n",
       "      <td>B002-C002-0009</td>\n",
       "      <td>B002-C003-0049</td>\n",
       "      <td>B002-03744</td>\n",
       "    </tr>\n",
       "    <tr>\n",
       "      <th>15702</th>\n",
       "      <td>15702</td>\n",
       "      <td>B002-03768-00001</td>\n",
       "      <td>B002-C001-0002</td>\n",
       "      <td>B002-C002-0009</td>\n",
       "      <td>B002-C003-0048</td>\n",
       "      <td>B002-03768</td>\n",
       "    </tr>\n",
       "    <tr>\n",
       "      <th>15703</th>\n",
       "      <td>15703</td>\n",
       "      <td>B002-03768-00002</td>\n",
       "      <td>B002-C001-0002</td>\n",
       "      <td>B002-C002-0009</td>\n",
       "      <td>B002-C003-0048</td>\n",
       "      <td>B002-03768</td>\n",
       "    </tr>\n",
       "    <tr>\n",
       "      <th>15855</th>\n",
       "      <td>15855</td>\n",
       "      <td>B002-03798-00026</td>\n",
       "      <td>B002-C001-0002</td>\n",
       "      <td>B002-C002-0009</td>\n",
       "      <td>B002-C003-0049</td>\n",
       "      <td>B002-03798</td>\n",
       "    </tr>\n",
       "    <tr>\n",
       "      <th>15878</th>\n",
       "      <td>15878</td>\n",
       "      <td>B002-03798-00050</td>\n",
       "      <td>B002-C001-0002</td>\n",
       "      <td>B002-C002-0009</td>\n",
       "      <td>B002-C003-0049</td>\n",
       "      <td>B002-03798</td>\n",
       "    </tr>\n",
       "  </tbody>\n",
       "</table>\n",
       "<p>1144 rows × 6 columns</p>\n",
       "</div>"
      ],
      "text/plain": [
       "          ID                제품             대분류             중분류  \\\n",
       "81        81  B002-00039-00001  B002-C001-0002  B002-C002-0009   \n",
       "156      156  B002-00067-00014  B002-C001-0002  B002-C002-0009   \n",
       "157      157  B002-00067-00015  B002-C001-0002  B002-C002-0009   \n",
       "158      158  B002-00067-00016  B002-C001-0002  B002-C002-0009   \n",
       "159      159  B002-00067-00017  B002-C001-0002  B002-C002-0009   \n",
       "...      ...               ...             ...             ...   \n",
       "15634  15634  B002-03744-00002  B002-C001-0002  B002-C002-0009   \n",
       "15702  15702  B002-03768-00001  B002-C001-0002  B002-C002-0009   \n",
       "15703  15703  B002-03768-00002  B002-C001-0002  B002-C002-0009   \n",
       "15855  15855  B002-03798-00026  B002-C001-0002  B002-C002-0009   \n",
       "15878  15878  B002-03798-00050  B002-C001-0002  B002-C002-0009   \n",
       "\n",
       "                  소분류         브랜드  \n",
       "81     B002-C003-0045  B002-00039  \n",
       "156    B002-C003-0045  B002-00067  \n",
       "157    B002-C003-0045  B002-00067  \n",
       "158    B002-C003-0046  B002-00067  \n",
       "159    B002-C003-0046  B002-00067  \n",
       "...               ...         ...  \n",
       "15634  B002-C003-0049  B002-03744  \n",
       "15702  B002-C003-0048  B002-03768  \n",
       "15703  B002-C003-0048  B002-03768  \n",
       "15855  B002-C003-0049  B002-03798  \n",
       "15878  B002-C003-0049  B002-03798  \n",
       "\n",
       "[1144 rows x 6 columns]"
      ]
     },
     "execution_count": 6,
     "metadata": {},
     "output_type": "execute_result"
    }
   ],
   "source": [
    "train_category_1"
   ]
  },
  {
   "cell_type": "code",
   "execution_count": 7,
   "metadata": {},
   "outputs": [
    {
     "data": {
      "text/plain": [
       "6"
      ]
     },
     "execution_count": 7,
     "metadata": {},
     "output_type": "execute_result"
    }
   ],
   "source": [
    "len(train_category_1['소분류'].unique()) # 소분류 하나에 중분류 대분류 하나씩 속해 있음!(소분류 9 제외)"
   ]
  },
  {
   "cell_type": "code",
   "execution_count": 8,
   "metadata": {},
   "outputs": [
    {
     "data": {
      "text/plain": [
       "array(['B002-C003-0047'], dtype=object)"
      ]
     },
     "execution_count": 8,
     "metadata": {},
     "output_type": "execute_result"
    }
   ],
   "source": [
    "train_category_1[train_category_1['대분류']=='B002-C001-0004']['소분류'].unique()"
   ]
  },
  {
   "cell_type": "code",
   "execution_count": 9,
   "metadata": {},
   "outputs": [],
   "source": [
    "train_data_category = train_data.loc[:,:'브랜드']"
   ]
  },
  {
   "cell_type": "code",
   "execution_count": 5,
   "metadata": {},
   "outputs": [
    {
     "data": {
      "text/html": [
       "<div>\n",
       "<style scoped>\n",
       "    .dataframe tbody tr th:only-of-type {\n",
       "        vertical-align: middle;\n",
       "    }\n",
       "\n",
       "    .dataframe tbody tr th {\n",
       "        vertical-align: top;\n",
       "    }\n",
       "\n",
       "    .dataframe thead th {\n",
       "        text-align: right;\n",
       "    }\n",
       "</style>\n",
       "<table border=\"1\" class=\"dataframe\">\n",
       "  <thead>\n",
       "    <tr style=\"text-align: right;\">\n",
       "      <th></th>\n",
       "      <th>ID</th>\n",
       "      <th>제품</th>\n",
       "      <th>대분류</th>\n",
       "      <th>중분류</th>\n",
       "      <th>소분류</th>\n",
       "      <th>브랜드</th>\n",
       "    </tr>\n",
       "  </thead>\n",
       "  <tbody>\n",
       "    <tr>\n",
       "      <th>0</th>\n",
       "      <td>0</td>\n",
       "      <td>B002-00001-00001</td>\n",
       "      <td>B002-C001-0002</td>\n",
       "      <td>B002-C002-0007</td>\n",
       "      <td>B002-C003-0038</td>\n",
       "      <td>B002-00001</td>\n",
       "    </tr>\n",
       "    <tr>\n",
       "      <th>1</th>\n",
       "      <td>1</td>\n",
       "      <td>B002-00002-00001</td>\n",
       "      <td>B002-C001-0003</td>\n",
       "      <td>B002-C002-0008</td>\n",
       "      <td>B002-C003-0044</td>\n",
       "      <td>B002-00002</td>\n",
       "    </tr>\n",
       "    <tr>\n",
       "      <th>2</th>\n",
       "      <td>2</td>\n",
       "      <td>B002-00002-00002</td>\n",
       "      <td>B002-C001-0003</td>\n",
       "      <td>B002-C002-0008</td>\n",
       "      <td>B002-C003-0044</td>\n",
       "      <td>B002-00002</td>\n",
       "    </tr>\n",
       "    <tr>\n",
       "      <th>3</th>\n",
       "      <td>3</td>\n",
       "      <td>B002-00002-00003</td>\n",
       "      <td>B002-C001-0003</td>\n",
       "      <td>B002-C002-0008</td>\n",
       "      <td>B002-C003-0044</td>\n",
       "      <td>B002-00002</td>\n",
       "    </tr>\n",
       "    <tr>\n",
       "      <th>4</th>\n",
       "      <td>4</td>\n",
       "      <td>B002-00003-00001</td>\n",
       "      <td>B002-C001-0001</td>\n",
       "      <td>B002-C002-0001</td>\n",
       "      <td>B002-C003-0003</td>\n",
       "      <td>B002-00003</td>\n",
       "    </tr>\n",
       "    <tr>\n",
       "      <th>...</th>\n",
       "      <td>...</td>\n",
       "      <td>...</td>\n",
       "      <td>...</td>\n",
       "      <td>...</td>\n",
       "      <td>...</td>\n",
       "      <td>...</td>\n",
       "    </tr>\n",
       "    <tr>\n",
       "      <th>15885</th>\n",
       "      <td>15885</td>\n",
       "      <td>B002-03799-00002</td>\n",
       "      <td>B002-C001-0003</td>\n",
       "      <td>B002-C002-0008</td>\n",
       "      <td>B002-C003-0042</td>\n",
       "      <td>B002-03799</td>\n",
       "    </tr>\n",
       "    <tr>\n",
       "      <th>15886</th>\n",
       "      <td>15886</td>\n",
       "      <td>B002-03799-00003</td>\n",
       "      <td>B002-C001-0003</td>\n",
       "      <td>B002-C002-0008</td>\n",
       "      <td>B002-C003-0044</td>\n",
       "      <td>B002-03799</td>\n",
       "    </tr>\n",
       "    <tr>\n",
       "      <th>15887</th>\n",
       "      <td>15887</td>\n",
       "      <td>B002-03799-00004</td>\n",
       "      <td>B002-C001-0003</td>\n",
       "      <td>B002-C002-0008</td>\n",
       "      <td>B002-C003-0044</td>\n",
       "      <td>B002-03799</td>\n",
       "    </tr>\n",
       "    <tr>\n",
       "      <th>15888</th>\n",
       "      <td>15888</td>\n",
       "      <td>B002-03799-00005</td>\n",
       "      <td>B002-C001-0003</td>\n",
       "      <td>B002-C002-0008</td>\n",
       "      <td>B002-C003-0044</td>\n",
       "      <td>B002-03799</td>\n",
       "    </tr>\n",
       "    <tr>\n",
       "      <th>15889</th>\n",
       "      <td>15889</td>\n",
       "      <td>B002-03799-00010</td>\n",
       "      <td>B002-C001-0002</td>\n",
       "      <td>B002-C002-0004</td>\n",
       "      <td>B002-C003-0020</td>\n",
       "      <td>B002-03799</td>\n",
       "    </tr>\n",
       "  </tbody>\n",
       "</table>\n",
       "<p>15890 rows × 6 columns</p>\n",
       "</div>"
      ],
      "text/plain": [
       "          ID                제품             대분류             중분류  \\\n",
       "0          0  B002-00001-00001  B002-C001-0002  B002-C002-0007   \n",
       "1          1  B002-00002-00001  B002-C001-0003  B002-C002-0008   \n",
       "2          2  B002-00002-00002  B002-C001-0003  B002-C002-0008   \n",
       "3          3  B002-00002-00003  B002-C001-0003  B002-C002-0008   \n",
       "4          4  B002-00003-00001  B002-C001-0001  B002-C002-0001   \n",
       "...      ...               ...             ...             ...   \n",
       "15885  15885  B002-03799-00002  B002-C001-0003  B002-C002-0008   \n",
       "15886  15886  B002-03799-00003  B002-C001-0003  B002-C002-0008   \n",
       "15887  15887  B002-03799-00004  B002-C001-0003  B002-C002-0008   \n",
       "15888  15888  B002-03799-00005  B002-C001-0003  B002-C002-0008   \n",
       "15889  15889  B002-03799-00010  B002-C001-0002  B002-C002-0004   \n",
       "\n",
       "                  소분류         브랜드  \n",
       "0      B002-C003-0038  B002-00001  \n",
       "1      B002-C003-0044  B002-00002  \n",
       "2      B002-C003-0044  B002-00002  \n",
       "3      B002-C003-0044  B002-00002  \n",
       "4      B002-C003-0003  B002-00003  \n",
       "...               ...         ...  \n",
       "15885  B002-C003-0042  B002-03799  \n",
       "15886  B002-C003-0044  B002-03799  \n",
       "15887  B002-C003-0044  B002-03799  \n",
       "15888  B002-C003-0044  B002-03799  \n",
       "15889  B002-C003-0020  B002-03799  \n",
       "\n",
       "[15890 rows x 6 columns]"
      ]
     },
     "execution_count": 5,
     "metadata": {},
     "output_type": "execute_result"
    }
   ],
   "source": [
    "train_data_category"
   ]
  },
  {
   "cell_type": "code",
   "execution_count": 10,
   "metadata": {},
   "outputs": [
    {
     "data": {
      "text/plain": [
       "array(['B002-C003-0052', 'B002-C003-0053'], dtype=object)"
      ]
     },
     "execution_count": 10,
     "metadata": {},
     "output_type": "execute_result"
    }
   ],
   "source": [
    "train_data_category[train_data_category['중분류']=='B002-C002-0011']['소분류'].unique()"
   ]
  },
  {
   "cell_type": "markdown",
   "metadata": {},
   "source": [
    "### 분류별 제품 정보 모아보기"
   ]
  },
  {
   "cell_type": "code",
   "execution_count": 11,
   "metadata": {},
   "outputs": [],
   "source": [
    "product_info = pd.read_csv('./product_info.csv')"
   ]
  },
  {
   "cell_type": "code",
   "execution_count": 12,
   "metadata": {},
   "outputs": [
    {
     "data": {
      "text/html": [
       "<div>\n",
       "<style scoped>\n",
       "    .dataframe tbody tr th:only-of-type {\n",
       "        vertical-align: middle;\n",
       "    }\n",
       "\n",
       "    .dataframe tbody tr th {\n",
       "        vertical-align: top;\n",
       "    }\n",
       "\n",
       "    .dataframe thead th {\n",
       "        text-align: right;\n",
       "    }\n",
       "</style>\n",
       "<table border=\"1\" class=\"dataframe\">\n",
       "  <thead>\n",
       "    <tr style=\"text-align: right;\">\n",
       "      <th></th>\n",
       "      <th>제품</th>\n",
       "      <th>제품특성</th>\n",
       "    </tr>\n",
       "  </thead>\n",
       "  <tbody>\n",
       "    <tr>\n",
       "      <th>0</th>\n",
       "      <td>B002-03509-00001</td>\n",
       "      <td>제품유형:일반식품 콜라겐 펩타이드:1000mg 종류:어류 분자량:300Da 섭취대상...</td>\n",
       "    </tr>\n",
       "    <tr>\n",
       "      <th>1</th>\n",
       "      <td>B002-02376-00001</td>\n",
       "      <td>700mg x 28정</td>\n",
       "    </tr>\n",
       "    <tr>\n",
       "      <th>2</th>\n",
       "      <td>B002-03735-00001</td>\n",
       "      <td>제품타입:정 섭취방법:물과 함께 섭취대상:성인남녀 섭취횟수:하루 두 번 1일 총 섭...</td>\n",
       "    </tr>\n",
       "    <tr>\n",
       "      <th>3</th>\n",
       "      <td>B002-03735-00003</td>\n",
       "      <td>제품타입:정 섭취방법:물과 함께 섭취대상:성인남녀 섭취횟수:하루 한 번 1일 총 섭...</td>\n",
       "    </tr>\n",
       "    <tr>\n",
       "      <th>4</th>\n",
       "      <td>B002-02769-00001</td>\n",
       "      <td>HCA:900mg 영양소 원료명(식약처고시):비타민B1 영양소 원료명(식약처고시):...</td>\n",
       "    </tr>\n",
       "    <tr>\n",
       "      <th>...</th>\n",
       "      <td>...</td>\n",
       "      <td>...</td>\n",
       "    </tr>\n",
       "    <tr>\n",
       "      <th>12773</th>\n",
       "      <td>B002-01994-00001</td>\n",
       "      <td>형태:액상형 구성:리필 등급:1종 용도:식기 용도:과일 용도:야채 용도:조리기구 용...</td>\n",
       "    </tr>\n",
       "    <tr>\n",
       "      <th>12774</th>\n",
       "      <td>B002-02600-00002</td>\n",
       "      <td>헤어타입:모든 모발용 주요제품특징:머릿결개선 세부제품특징:촉촉함(수분공급) 세부제품...</td>\n",
       "    </tr>\n",
       "    <tr>\n",
       "      <th>12775</th>\n",
       "      <td>B002-02372-00095</td>\n",
       "      <td>사용대상:여성용 타입:일자형 흡수량:20ml :1팩 32개</td>\n",
       "    </tr>\n",
       "    <tr>\n",
       "      <th>12776</th>\n",
       "      <td>B002-01318-00002</td>\n",
       "      <td>피부타입:모든피부용 향계열:무향 주요제품특징:촉촉함(수분공급) 주요제품특징:풍부한 ...</td>\n",
       "    </tr>\n",
       "    <tr>\n",
       "      <th>12777</th>\n",
       "      <td>B002-02473-00064</td>\n",
       "      <td>최소연령:4개월 단계별:2단계 종류:일반분유 제품형태:분말 포장형태:캔 용량:800...</td>\n",
       "    </tr>\n",
       "  </tbody>\n",
       "</table>\n",
       "<p>12778 rows × 2 columns</p>\n",
       "</div>"
      ],
      "text/plain": [
       "                     제품                                               제품특성\n",
       "0      B002-03509-00001  제품유형:일반식품 콜라겐 펩타이드:1000mg 종류:어류 분자량:300Da 섭취대상...\n",
       "1      B002-02376-00001                                        700mg x 28정\n",
       "2      B002-03735-00001  제품타입:정 섭취방법:물과 함께 섭취대상:성인남녀 섭취횟수:하루 두 번 1일 총 섭...\n",
       "3      B002-03735-00003  제품타입:정 섭취방법:물과 함께 섭취대상:성인남녀 섭취횟수:하루 한 번 1일 총 섭...\n",
       "4      B002-02769-00001  HCA:900mg 영양소 원료명(식약처고시):비타민B1 영양소 원료명(식약처고시):...\n",
       "...                 ...                                                ...\n",
       "12773  B002-01994-00001  형태:액상형 구성:리필 등급:1종 용도:식기 용도:과일 용도:야채 용도:조리기구 용...\n",
       "12774  B002-02600-00002  헤어타입:모든 모발용 주요제품특징:머릿결개선 세부제품특징:촉촉함(수분공급) 세부제품...\n",
       "12775  B002-02372-00095                   사용대상:여성용 타입:일자형 흡수량:20ml :1팩 32개\n",
       "12776  B002-01318-00002  피부타입:모든피부용 향계열:무향 주요제품특징:촉촉함(수분공급) 주요제품특징:풍부한 ...\n",
       "12777  B002-02473-00064  최소연령:4개월 단계별:2단계 종류:일반분유 제품형태:분말 포장형태:캔 용량:800...\n",
       "\n",
       "[12778 rows x 2 columns]"
      ]
     },
     "execution_count": 12,
     "metadata": {},
     "output_type": "execute_result"
    }
   ],
   "source": [
    "product_info"
   ]
  },
  {
   "cell_type": "code",
   "execution_count": 8,
   "metadata": {},
   "outputs": [
    {
     "data": {
      "text/plain": [
       "12778"
      ]
     },
     "execution_count": 8,
     "metadata": {},
     "output_type": "execute_result"
    }
   ],
   "source": [
    "len(product_info['제품'].unique())"
   ]
  },
  {
   "cell_type": "code",
   "execution_count": null,
   "metadata": {},
   "outputs": [],
   "source": [
    "for category1 in train_data_category['대분류'].unique():\n",
    "    print('대분류', category1)\n",
    "    train_inner1 = train_data_category[train_data_category['대분류']==category1]\n",
    "    for category2 in train_inner1['중분류'].unique():\n",
    "        print('└──중분류', category2)\n",
    "        train_inner2 = train_inner1[train_inner1['중분류']==category2]\n",
    "        print('   └──소분류', ', '.join(train_inner2['소분류'].unique()))"
   ]
  },
  {
   "cell_type": "markdown",
   "metadata": {},
   "source": [
    "* txt 파일로 저장"
   ]
  },
  {
   "cell_type": "code",
   "execution_count": null,
   "metadata": {},
   "outputs": [],
   "source": [
    "with open('product_category.txt','w') as f:\n",
    "    for category1 in train_data_category['대분류'].unique():\n",
    "        f.write('대분류 '+ category1+'\\n')\n",
    "        train_inner1 = train_data_category[train_data_category['대분류']==category1]\n",
    "        for category2 in train_inner1['중분류'].unique():\n",
    "            f.write('└──중분류 '+ category2+'\\n')\n",
    "            train_inner2 = train_inner1[train_inner1['중분류']==category2]\n",
    "            f.write('   └──소분류 '+ ', '.join(train_inner2['소분류'].unique())+'\\n')"
   ]
  },
  {
   "cell_type": "markdown",
   "metadata": {},
   "source": [
    "#### 특정 분류에 해당하는 제품 코드의 특성 살펴보기"
   ]
  },
  {
   "cell_type": "markdown",
   "metadata": {},
   "source": []
  },
  {
   "cell_type": "code",
   "execution_count": null,
   "metadata": {},
   "outputs": [],
   "source": [
    "df = train_data_category[train_data_category['소분류']=='B002-C003-0001']\n",
    "df_merge = pd.merge(product_info, df)\n",
    "# df_merge.iloc[120:,:].head(30)\n",
    "df_merge.to_csv('./category/{}.csv'.format())"
   ]
  },
  {
   "cell_type": "markdown",
   "metadata": {},
   "source": [
    "* 파일로 저장"
   ]
  },
  {
   "cell_type": "code",
   "execution_count": 9,
   "metadata": {},
   "outputs": [],
   "source": [
    "for cat_num in train_data_category['소분류'].unique():\n",
    "    df = train_data_category[train_data_category['소분류']==cat_num]\n",
    "    df_merge = pd.merge(product_info, df)\n",
    "    df_merge.to_excel('./category_excel/{}.xlsx'.format(cat_num), index=False)"
   ]
  },
  {
   "cell_type": "markdown",
   "metadata": {},
   "source": [
    "대분류 1: 영양제\n",
    "대분류 2: 뷰티\n",
    "대분류 3: 생활용품\n",
    "대분류 4: 아이/애완동물\n",
    "대분류 5: 식품\n",
    "* 중분류 9: 아기용..? 추정"
   ]
  },
  {
   "cell_type": "code",
   "execution_count": null,
   "metadata": {},
   "outputs": [],
   "source": []
  }
 ],
 "metadata": {
  "kernelspec": {
   "display_name": "dacon",
   "language": "python",
   "name": "python3"
  },
  "language_info": {
   "codemirror_mode": {
    "name": "ipython",
    "version": 3
   },
   "file_extension": ".py",
   "mimetype": "text/x-python",
   "name": "python",
   "nbconvert_exporter": "python",
   "pygments_lexer": "ipython3",
   "version": "3.10.12"
  },
  "orig_nbformat": 4
 },
 "nbformat": 4,
 "nbformat_minor": 2
}
